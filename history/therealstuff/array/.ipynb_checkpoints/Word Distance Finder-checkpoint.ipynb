{
 "cells": [
  {
   "cell_type": "code",
   "execution_count": null,
   "metadata": {},
   "outputs": [],
   "source": [
    "class WordDistanceFinder:\n",
    "    \"\"\"\n",
    "    This class will be given a list of words (such as might be tokenized \n",
    "    from a paragraph of text), and will provide a method that takes two\n",
    "    words and returns the shortest distance (in words) between those two\n",
    "    words in the provided text.\n",
    " \n",
    "    ::\n",
    "      finder = WordDistanceFinder([\"the\", \"quick\", \"brown\", \"fox\", \"quick\"])\n",
    "      assert finder.distance(\"fox\", \"the\") == 3\n",
    "      assert finder.distance(\"quick\", \"fox\") == 1\n",
    " \n",
    "    \"quick\" appears twice in the input. There are two possible distance values for \"quick\" and \"fox\":\n",
    "        (3 - 1) = 2 and (4 - 3) = 1.\n",
    " \n",
    "    Since we have to return the shortest distance between the two words we return 1.\n",
    " \n",
    "   [\"quick\", \"the\", \"brown\", \"fox\"]) => quick and fox\n",
    "    \"\"\"\n",
    "    def __init__(self, words):\n",
    "        # Implementation here\n",
    "        self.words = words\n",
    "         \n",
    "    def distance(self, wordOne, wordTwo):\n",
    "        # Implementation here\n",
    "            pass\n",
    "        return shortest_dist"
   ]
  },
  {
   "cell_type": "code",
   "execution_count": 12,
   "metadata": {},
   "outputs": [
    {
     "name": "stdout",
     "output_type": "stream",
     "text": [
      "3\n",
      "1\n",
      "0\n"
     ]
    }
   ],
   "source": [
    "# Driver programme\n",
    "finder = WordDistanceFinder([\"the\", \"quick\", \"brown\", \"fox\", \"quick\"])\n",
    "print(finder.distance(\"fox\",\"the\")) #3\n",
    "print(finder.distance(\"quick\",\"fox\")) #1\n",
    "print(finder.distance(\"quick\",\"quick\")) #0"
   ]
  },
  {
   "cell_type": "code",
   "execution_count": 15,
   "metadata": {},
   "outputs": [
    {
     "data": {
      "text/plain": [
       "9223372036854775807"
      ]
     },
     "execution_count": 15,
     "metadata": {},
     "output_type": "execute_result"
    }
   ],
   "source": []
  },
  {
   "cell_type": "code",
   "execution_count": null,
   "metadata": {},
   "outputs": [],
   "source": []
  },
  {
   "cell_type": "code",
   "execution_count": null,
   "metadata": {},
   "outputs": [],
   "source": []
  },
  {
   "cell_type": "code",
   "execution_count": null,
   "metadata": {},
   "outputs": [],
   "source": []
  },
  {
   "cell_type": "code",
   "execution_count": null,
   "metadata": {},
   "outputs": [],
   "source": []
  },
  {
   "cell_type": "code",
   "execution_count": null,
   "metadata": {},
   "outputs": [],
   "source": []
  },
  {
   "cell_type": "code",
   "execution_count": null,
   "metadata": {},
   "outputs": [],
   "source": []
  },
  {
   "cell_type": "code",
   "execution_count": null,
   "metadata": {},
   "outputs": [],
   "source": []
  },
  {
   "cell_type": "code",
   "execution_count": null,
   "metadata": {},
   "outputs": [],
   "source": []
  },
  {
   "cell_type": "code",
   "execution_count": null,
   "metadata": {},
   "outputs": [],
   "source": []
  },
  {
   "cell_type": "code",
   "execution_count": null,
   "metadata": {},
   "outputs": [],
   "source": []
  },
  {
   "cell_type": "code",
   "execution_count": null,
   "metadata": {},
   "outputs": [],
   "source": []
  },
  {
   "cell_type": "code",
   "execution_count": null,
   "metadata": {},
   "outputs": [],
   "source": []
  },
  {
   "cell_type": "code",
   "execution_count": null,
   "metadata": {},
   "outputs": [],
   "source": []
  },
  {
   "cell_type": "code",
   "execution_count": null,
   "metadata": {},
   "outputs": [],
   "source": []
  },
  {
   "cell_type": "code",
   "execution_count": null,
   "metadata": {},
   "outputs": [],
   "source": []
  },
  {
   "cell_type": "code",
   "execution_count": null,
   "metadata": {},
   "outputs": [],
   "source": []
  },
  {
   "cell_type": "code",
   "execution_count": null,
   "metadata": {},
   "outputs": [],
   "source": []
  },
  {
   "cell_type": "code",
   "execution_count": null,
   "metadata": {},
   "outputs": [],
   "source": []
  },
  {
   "cell_type": "code",
   "execution_count": 16,
   "metadata": {},
   "outputs": [],
   "source": [
    "# Iteration 1 - \n",
    "\n",
    "'''\n",
    "# Concept is to use 2 indexes to keep track if you found either words\n",
    "# The index must be initalised with something that is not an official index\n",
    "# This question is testing your concept of how to initalise\n",
    "\n",
    "word1 = quick, word2 = fox\n",
    "\n",
    "index1 = 4\n",
    "index2 = 3\n",
    "mindist = 1\n",
    "\n",
    "index1 = -1\n",
    "index2 = -1\n",
    "mindist = None\n",
    "\n",
    "Single pass through word array:\n",
    "    if index1 matches word1:\n",
    "        set current index to word1\n",
    "    if index2 matches word2:\n",
    "        set current index to index2\n",
    "    if index1 and index2 not -1 and greater that mindist:\n",
    "        set mindist\n",
    "return mindist if not None\n",
    "'''\n",
    "\n",
    "import sys\n",
    "class WordDistanceFinder:\n",
    "\n",
    "    def __init__(self, words):\n",
    "        # Implementation here\n",
    "        self.words = words\n",
    "         \n",
    "    def distance(self, wordOne, wordTwo):\n",
    "        index1 = -1\n",
    "        index2 = -1\n",
    "        mindist = sys.maxsize\n",
    "        for i, word in enumerate(self.words):\n",
    "            if word == wordOne: index1 = i\n",
    "            if word == wordTwo: index2 = i\n",
    "            if (index1 != -1 and index2 != -1) and abs(index2-index1) < mindist:\n",
    "                mindist = abs(index2-index1)\n",
    "        if mindist < sys.maxsize:\n",
    "            return mindist\n",
    "        else:\n",
    "            return 'Not valid'"
   ]
  },
  {
   "cell_type": "code",
   "execution_count": 37,
   "metadata": {},
   "outputs": [
    {
     "name": "stdout",
     "output_type": "stream",
     "text": [
      "3\n",
      "1\n",
      "0\n"
     ]
    }
   ],
   "source": [
    "# Driver programme\n",
    "finder = WordDistanceFinder([\"the\", \"quick\", \"brown\", \"fox\", \"quick\"])\n",
    "\n",
    "print(finder.distance(\"fox\",\"the\")) #3\n",
    "print(finder.distance(\"quick\",\"fox\")) #1\n",
    "print(finder.distance(\"quick\",\"quick\")) #0\n"
   ]
  },
  {
   "cell_type": "code",
   "execution_count": 36,
   "metadata": {},
   "outputs": [],
   "source": [
    "'''\n",
    "Iteration 2 - Now consider the case where your method will be called repeatedly many times with\n",
    "different parameters. How would you optimize it?\n",
    "http://www.learn4master.com/interview-questions/leetcode/leetcode-shortest-word-distance-i-ii-and-iii\n",
    "'''\n",
    "\n",
    "# Concept is to use hashmap to store the index values then using mergesort concept to iterate 2 lists\n",
    "\n",
    "import sys\n",
    "class WordDistanceFinder:\n",
    "\n",
    "    def __init__(self, words):\n",
    "        # Implementation here\n",
    "        self.words = words\n",
    "        self.wordmap = {}\n",
    "        for i, word in enumerate(self.words):\n",
    "            if word in self.wordmap:\n",
    "                self.wordmap[word].append(i)\n",
    "            else:\n",
    "                self.wordmap[word] = [i]\n",
    "         \n",
    "    def distance(self, wordOne, wordTwo):\n",
    "        index1 = 0\n",
    "        index2 = 0\n",
    "        mindist = sys.maxsize\n",
    "        if wordOne in self.wordmap:\n",
    "            list1 = self.wordmap[wordOne]\n",
    "        else:\n",
    "            return 'Not valid'\n",
    "        if wordTwo in self.wordmap:\n",
    "            list2 = self.wordmap[wordTwo]\n",
    "        else:\n",
    "            return \"Not valid\"\n",
    "        while (index1 < len(list1) and index2 < len(list2)):\n",
    "            val1 = list1[index1]\n",
    "            val2 = list2[index2]\n",
    "            mindist = min(mindist, abs(val2-val1))\n",
    "            if val1 < val2:\n",
    "                index1 = index1 + 1\n",
    "            else:\n",
    "                index2 = index2 + 1\n",
    "        return mindist"
   ]
  }
 ],
 "metadata": {
  "kernelspec": {
   "display_name": "Python 3",
   "language": "python",
   "name": "python3"
  },
  "language_info": {
   "codemirror_mode": {
    "name": "ipython",
    "version": 3
   },
   "file_extension": ".py",
   "mimetype": "text/x-python",
   "name": "python",
   "nbconvert_exporter": "python",
   "pygments_lexer": "ipython3",
   "version": "3.6.3"
  }
 },
 "nbformat": 4,
 "nbformat_minor": 2
}
