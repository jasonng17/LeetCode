{
 "cells": [
  {
   "cell_type": "markdown",
   "metadata": {},
   "source": [
    "# Two Sum\n",
    "\n",
    "Given an array of integers, return indices of the two numbers such that they add up to a specific target.\n",
    "\n",
    "You may assume that each input would have exactly one solution, and you may not use the same element twice."
   ]
  },
  {
   "cell_type": "raw",
   "metadata": {},
   "source": [
    "Given nums = [2, 7, 11, 15], target = 9,\n",
    "\n",
    "Because nums[0] + nums[1] = 2 + 7 = 9,\n",
    "return [0, 1]."
   ]
  },
  {
   "cell_type": "code",
   "execution_count": 29,
   "metadata": {},
   "outputs": [
    {
     "data": {
      "text/plain": [
       "[2, 3]"
      ]
     },
     "execution_count": 29,
     "metadata": {},
     "output_type": "execute_result"
    }
   ],
   "source": [
    "# Driver program\n",
    "nums = [11,15,7,2,1]\n",
    "target = 9\n",
    "twosum(target, nums)"
   ]
  },
  {
   "cell_type": "code",
   "execution_count": 28,
   "metadata": {},
   "outputs": [],
   "source": [
    "# Iteration 1 - brute force\n",
    "# Time complexity O(n^2)\n",
    "\n",
    "def twosum(target, nums):\n",
    "    for i in range(0,len(nums)):\n",
    "        for j in range(0,len(nums)):\n",
    "            if target == (nums[i] + nums[j]):\n",
    "                return [i,j]    "
   ]
  },
  {
   "cell_type": "code",
   "execution_count": 37,
   "metadata": {},
   "outputs": [],
   "source": [
    "# Iteration 2 - using two pointer technique\n",
    "# Time complexity O(n)\n",
    "\n",
    "'''\n",
    "If their sum is smaller than X then we shift the left pointer to right \n",
    "or if their sum is greater than X then we shift the right pointer to left, in order to get closer to the sum.\n",
    "We keep moving the pointers until we get the sum as X.\n",
    "'''\n",
    "\n",
    "def twosum(target, nums):\n",
    "    nums = sorted(zip(nums, range(0,len(nums))))\n",
    "    ptr1 = 0\n",
    "    ptr2 = len(nums) - 1\n",
    "    \n",
    "    while(ptr1 < ptr2):\n",
    "        total = (nums[ptr1][0] + nums[ptr2][0])\n",
    "        if target == total:\n",
    "            return sorted([nums[ptr1][1], nums[ptr2][1]])\n",
    "        elif total < target:\n",
    "            ptr1 = ptr1 + 1\n",
    "        elif total > target:\n",
    "            ptr2 = ptr2 - 1"
   ]
  },
  {
   "cell_type": "code",
   "execution_count": 38,
   "metadata": {},
   "outputs": [
    {
     "data": {
      "text/plain": [
       "[2, 3]"
      ]
     },
     "execution_count": 38,
     "metadata": {},
     "output_type": "execute_result"
    }
   ],
   "source": [
    "twosum(target, nums)"
   ]
  },
  {
   "cell_type": "markdown",
   "metadata": {},
   "source": [
    "# Two Sum - Data Structure Design\n",
    "\n",
    "Design and implement a TwoSum class. It should support the following operations: add and find.\n",
    "\n",
    "add – Add the number to an internal data structure.\n",
    "find – Find if there exists any pair of numbers which sum is equal to the value."
   ]
  },
  {
   "cell_type": "raw",
   "metadata": {},
   "source": [
    "add(1); add(3); add(5);\n",
    "find(4) -> true\n",
    "find(7) -> false"
   ]
  },
  {
   "cell_type": "code",
   "execution_count": 46,
   "metadata": {},
   "outputs": [],
   "source": [
    "class twoSum:\n",
    "    def __init__(self, nums):\n",
    "        self.nums = nums\n",
    "        print(\"nums: {}\".format(nums))\n",
    "    \n",
    "    def add(self, num):\n",
    "        self.nums.append(num)\n",
    "        print(\"nums: {}\".format(nums))\n",
    "    \n",
    "    def find(self, target):\n",
    "        newnums = sorted(zip(self.nums, range(0,len(self.nums))))\n",
    "        ptr1 = 0\n",
    "        ptr2 = len(newnums) - 1\n",
    "\n",
    "        while(ptr1 < ptr2):\n",
    "            total = (newnums[ptr1][0] + newnums[ptr2][0])\n",
    "            if target == total:\n",
    "                return sorted([newnums[ptr1][1], newnums[ptr2][1]])\n",
    "            elif total < target:\n",
    "                ptr1 = ptr1 + 1\n",
    "            elif total > target:\n",
    "                ptr2 = ptr2 - 1"
   ]
  },
  {
   "cell_type": "code",
   "execution_count": 48,
   "metadata": {},
   "outputs": [
    {
     "name": "stdout",
     "output_type": "stream",
     "text": [
      "nums: [11, 15, 7, 2, 1, 2]\n",
      "nums: [11, 15, 7, 2, 1, 2, 2]\n"
     ]
    },
    {
     "data": {
      "text/plain": [
       "[2, 3]"
      ]
     },
     "execution_count": 48,
     "metadata": {},
     "output_type": "execute_result"
    }
   ],
   "source": [
    "# Driver programme\n",
    "twosum = twoSum(nums)\n",
    "twosum.add(2)\n",
    "twosum.find(9)"
   ]
  },
  {
   "cell_type": "markdown",
   "metadata": {},
   "source": [
    "# Two Sum - Input is a BST\n",
    "\n",
    "Given a Binary Search Tree and a target number, return true if there exist two elements in the BST such that their sum is equal to the given target."
   ]
  },
  {
   "cell_type": "raw",
   "metadata": {},
   "source": [
    "Example 1:\n",
    "Input: \n",
    "    5\n",
    "   / \\\n",
    "  3   6\n",
    " / \\   \\\n",
    "2   4   7\n",
    "\n",
    "Target = 9\n",
    "\n",
    "Output: True\n",
    "    \n",
    "Example 2:\n",
    "Input: \n",
    "    5\n",
    "   / \\\n",
    "  3   6\n",
    " / \\   \\\n",
    "2   4   7\n",
    "\n",
    "Target = 28\n",
    "\n",
    "Output: False"
   ]
  },
  {
   "cell_type": "code",
   "execution_count": 112,
   "metadata": {},
   "outputs": [],
   "source": [
    "# Driver code\n",
    "class Node: \n",
    "    def __init__(self,key): \n",
    "        self.left = None\n",
    "        self.right = None\n",
    "        self.val = key\n",
    "        \n",
    "root = Node(5) \n",
    "root.left            = Node(3)\n",
    "root.right           = Node(6) \n",
    "root.left.left       = Node(2) \n",
    "root.left.right      = Node(4)\n",
    "root.right           = Node(6)\n",
    "root.right.right     = Node(7)"
   ]
  },
  {
   "cell_type": "code",
   "execution_count": 115,
   "metadata": {},
   "outputs": [],
   "source": [
    "'''\n",
    "inorder traversal and store in array\n",
    "apply two pointer technique to sorted array\n",
    "    sort nums\n",
    "    sum up total and compare to target\n",
    "    while ptr1 < ptr2 increment\n",
    "'''\n",
    "def twosums(root, target):\n",
    "    nums = []\n",
    "    def printtree(root):\n",
    "        if root:\n",
    "            printtree(root.left)\n",
    "            nums.append(root.val)\n",
    "            printtree(root.right)\n",
    "    printtree(root)\n",
    "    print(\"nums is: {}\".format(nums))\n",
    "    ptr1 = 0\n",
    "    ptr2 = len(nums) - 1\n",
    "    numarray = sorted(zip(nums, range(0,len(nums))))\n",
    "    print(\"numarray is: {}\".format(numarray))\n",
    "    while(ptr1 < ptr2):\n",
    "        total = numarray[ptr1][0] + numarray[ptr2][0]\n",
    "        print(total)\n",
    "        if total == target:\n",
    "            return sorted([numarray[ptr1][1],numarray[ptr2][1]])\n",
    "        if total < target:\n",
    "            ptr1 = ptr1 + 1\n",
    "        if total > target:\n",
    "            ptr2 = ptr2 - 1"
   ]
  },
  {
   "cell_type": "code",
   "execution_count": 116,
   "metadata": {},
   "outputs": [
    {
     "name": "stdout",
     "output_type": "stream",
     "text": [
      "nums is: [2, 3, 4, 5, 6, 7]\n",
      "numarray is: [(2, 0), (3, 1), (4, 2), (5, 3), (6, 4), (7, 5)]\n",
      "9\n"
     ]
    },
    {
     "data": {
      "text/plain": [
       "[0, 5]"
      ]
     },
     "execution_count": 116,
     "metadata": {},
     "output_type": "execute_result"
    }
   ],
   "source": [
    "twosums(root, 9)"
   ]
  },
  {
   "cell_type": "markdown",
   "metadata": {},
   "source": [
    "# Target Sum\n",
    "You are given a list of non-negative integers, a1, a2, …, an, and a target, S. Now you have 2 symbols + and -. For each integer, you should choose one from + and – as its new symbol.\n",
    "\n",
    "Find out how many ways to assign symbols to make sum of integers equal to target S.\n",
    "\n",
    "- The length of the given array is positive and will not exceed 20.\n",
    "- The sum of elements in the given array will not exceed 1000.\n",
    "- Your output answer is guaranteed to be fitted in a 32-bit integer."
   ]
  },
  {
   "cell_type": "raw",
   "metadata": {},
   "source": [
    "Input: nums is [1, 1, 1, 1, 1], S is 3. \n",
    "Output: 5\n",
    "Explanation: \n",
    "\n",
    "-1+1+1+1+1 = 3\n",
    "+1-1+1+1+1 = 3\n",
    "+1+1-1+1+1 = 3\n",
    "+1+1+1-1+1 = 3\n",
    "+1+1+1+1-1 = 3\n",
    "\n",
    "There are 5 ways to assign symbols to make the sum of nums be target 3."
   ]
  },
  {
   "cell_type": "code",
   "execution_count": null,
   "metadata": {},
   "outputs": [],
   "source": []
  },
  {
   "cell_type": "markdown",
   "metadata": {},
   "source": [
    "# 3Sum\n",
    "\n",
    "\n",
    "Given an array S of n integers, are there elements a, b, c in S such that a + b + c = 0? Find all unique triplets in the array which gives the sum of zero.\n",
    "\n",
    "Note: The solution set must not contain duplicate triplets."
   ]
  },
  {
   "cell_type": "raw",
   "metadata": {},
   "source": [
    "For example, given array S = [-1, 0, 1, 2, -1, -4],\n",
    "\n",
    "A solution set is:\n",
    "[\n",
    "  [-1, 0, 1],\n",
    "  [-1, -1, 2]\n",
    "]"
   ]
  },
  {
   "cell_type": "code",
   "execution_count": 24,
   "metadata": {},
   "outputs": [],
   "source": [
    "# Driver program\n",
    "nums = [-1, 0, 1, 2, -1, -4]"
   ]
  },
  {
   "cell_type": "code",
   "execution_count": 43,
   "metadata": {},
   "outputs": [],
   "source": [
    "# Method1 - brute force\n",
    "# Time complexity - O(n^3)\n",
    "\n",
    "'''\n",
    "Basic idea: sort the list, then create 3 loops and 'pass the index'\n",
    "'''\n",
    "\n",
    "def threesum(nums, target):\n",
    "    nums = sorted(nums)\n",
    "    results = []\n",
    "    for i in range(0,len(nums)-2):\n",
    "        for j in range(i+1,len(nums)-1):\n",
    "            for k in range(j+1, len(nums)): \n",
    "                total = nums[i] + nums[j] + nums[k]\n",
    "                if total == target:\n",
    "                    r = [nums[i],nums[j],nums[k]]\n",
    "                    if r not in results:\n",
    "                        results.append(r)\n",
    "    return results"
   ]
  },
  {
   "cell_type": "code",
   "execution_count": 49,
   "metadata": {},
   "outputs": [
    {
     "ename": "TypeError",
     "evalue": "threesum() takes 1 positional argument but 2 were given",
     "output_type": "error",
     "traceback": [
      "\u001b[0;31m---------------------------------------------------------------------------\u001b[0m",
      "\u001b[0;31mTypeError\u001b[0m                                 Traceback (most recent call last)",
      "\u001b[0;32m<ipython-input-49-53d159ffb9d1>\u001b[0m in \u001b[0;36m<module>\u001b[0;34m()\u001b[0m\n\u001b[0;32m----> 1\u001b[0;31m \u001b[0mthreesum\u001b[0m\u001b[0;34m(\u001b[0m\u001b[0mnums\u001b[0m\u001b[0;34m,\u001b[0m \u001b[0;36m0\u001b[0m\u001b[0;34m)\u001b[0m\u001b[0;34m\u001b[0m\u001b[0m\n\u001b[0m",
      "\u001b[0;31mTypeError\u001b[0m: threesum() takes 1 positional argument but 2 were given"
     ]
    }
   ],
   "source": [
    "threesum(nums, 0)"
   ]
  },
  {
   "cell_type": "code",
   "execution_count": 84,
   "metadata": {},
   "outputs": [],
   "source": [
    "# Method2 - Hashing\n",
    "# Time complexity - O(n + n^2)\n",
    "# Space complexity - O(n)\n",
    "# https://www.youtube.com/watch?v=jXZDUdHRbhY\n",
    "'''\n",
    "Basic idea: For every element find a pair of num with sum equals to the negative of the element.\n",
    "A potential bug could be the case where the complement is the same number itself, so we use a hashmap\n",
    "to store the index and we check the all indexes are unique before we return the results\n",
    "'''\n",
    "\n",
    "def threesum(nums, target):\n",
    "    results = []\n",
    "    hashtable = {}\n",
    "    for i,num in enumerate(nums):\n",
    "        hashtable[num] = i\n",
    "    n = len(nums)\n",
    "    for i in range(0,n-1):\n",
    "        for j in range(i+1,n):\n",
    "            key = target -(nums[i] + nums[j])\n",
    "            if key in hashtable:\n",
    "                # Check if unique\n",
    "                indexes = (hashtable[key],i,j)\n",
    "                if len(set(indexes)) == 3:\n",
    "                    r = sorted([key,nums[i],nums[j]])\n",
    "                    if r not in results:\n",
    "                        results.append(r)\n",
    "    return results\n",
    "            "
   ]
  },
  {
   "cell_type": "code",
   "execution_count": 85,
   "metadata": {},
   "outputs": [
    {
     "data": {
      "text/plain": [
       "[[-1, 0, 1], [-1, -1, 2]]"
      ]
     },
     "execution_count": 85,
     "metadata": {},
     "output_type": "execute_result"
    }
   ],
   "source": [
    "threesum(nums,0)"
   ]
  },
  {
   "cell_type": "code",
   "execution_count": 110,
   "metadata": {},
   "outputs": [],
   "source": [
    "# Method3 - Twopointer\n",
    "# Time complexity O(n^2)\n",
    "# Space complexity O(1)\n",
    "'''\n",
    "Basic idea: First sort the array\n",
    "For every element, we use twopointer techinque to check for a pair that can sum up to target\n",
    "Else we keep moving. Take note that we do not need to consider from the current element in twosum\n",
    "So you initalisation is abit different from the original twosum solution.\n",
    "'''\n",
    "\n",
    "def threesum(nums, target):\n",
    "    results = []\n",
    "    nums = sorted(nums)\n",
    "    for i in range(0,len(nums)-2):\n",
    "        ptr1 = i + 1\n",
    "        ptr2 = len(nums) - 1\n",
    "        while(ptr1 < ptr2):\n",
    "            total = nums[i] + nums[ptr1] + nums[ptr2]\n",
    "            if total < target:\n",
    "                ptr1 = ptr1 + 1\n",
    "            elif total > target:\n",
    "                ptr2 = ptr2 - 1           \n",
    "            else:\n",
    "                r = sorted([nums[i], nums[ptr1], nums[ptr2]])\n",
    "                if r not in results:\n",
    "                    results.append(r)\n",
    "                ptr1 = ptr1 + 1\n",
    "                ptr2 = ptr2 - 1\n",
    "    return results"
   ]
  },
  {
   "cell_type": "code",
   "execution_count": 111,
   "metadata": {},
   "outputs": [
    {
     "data": {
      "text/plain": [
       "[[-1, -1, 2], [-1, 0, 1]]"
      ]
     },
     "execution_count": 111,
     "metadata": {},
     "output_type": "execute_result"
    }
   ],
   "source": [
    "threesum(nums,0)"
   ]
  },
  {
   "cell_type": "code",
   "execution_count": null,
   "metadata": {},
   "outputs": [],
   "source": []
  },
  {
   "cell_type": "code",
   "execution_count": null,
   "metadata": {},
   "outputs": [],
   "source": []
  },
  {
   "cell_type": "code",
   "execution_count": 121,
   "metadata": {},
   "outputs": [],
   "source": [
    "# Method3 - Twopointer\n",
    "# Time complexity O(n^2)\n",
    "# Space complexity O(1)\n",
    "'''\n",
    "Basic idea: First sort the array\n",
    "For every element, we use twopointer techinque to check for a pair that can sum up to target\n",
    "Else we keep moving. Take note that we do not need to consider from the current element in twosum\n",
    "So you initalisation is abit different from the original twosum solution.\n",
    "'''\n",
    "\n",
    "def threesum(nums, target):\n",
    "    results = []\n",
    "    nums = sorted(nums)\n",
    "    for i in range(0,len(nums)-2):\n",
    "        # prevent repeated calculations if already considered before\n",
    "        if i > 0 and nums[i-1] == nums[i]:\n",
    "            continue\n",
    "        ptr1 = i + 1\n",
    "        ptr2 = len(nums) - 1\n",
    "        while(ptr1 < ptr2):\n",
    "            total = nums[i] + nums[ptr1] + nums[ptr2]\n",
    "            if total < target:\n",
    "                ptr1 = ptr1 + 1\n",
    "            elif total > target:\n",
    "                ptr2 = ptr2 - 1           \n",
    "            else:\n",
    "                r = sorted([nums[i], nums[ptr1], nums[ptr2]])\n",
    "                results.append(r)\n",
    "                ptr1 = ptr1 + 1\n",
    "                ptr2 = ptr2 - 1\n",
    "    return results"
   ]
  },
  {
   "cell_type": "code",
   "execution_count": 122,
   "metadata": {},
   "outputs": [
    {
     "data": {
      "text/plain": [
       "[[-1, -1, 2], [-1, 0, 1]]"
      ]
     },
     "execution_count": 122,
     "metadata": {},
     "output_type": "execute_result"
    }
   ],
   "source": [
    "threesum(nums,0)"
   ]
  },
  {
   "cell_type": "code",
   "execution_count": null,
   "metadata": {},
   "outputs": [],
   "source": []
  },
  {
   "cell_type": "code",
   "execution_count": null,
   "metadata": {},
   "outputs": [],
   "source": []
  },
  {
   "cell_type": "code",
   "execution_count": null,
   "metadata": {},
   "outputs": [],
   "source": []
  },
  {
   "cell_type": "code",
   "execution_count": null,
   "metadata": {},
   "outputs": [],
   "source": []
  },
  {
   "cell_type": "code",
   "execution_count": null,
   "metadata": {},
   "outputs": [],
   "source": []
  },
  {
   "cell_type": "code",
   "execution_count": null,
   "metadata": {},
   "outputs": [],
   "source": []
  },
  {
   "cell_type": "code",
   "execution_count": null,
   "metadata": {},
   "outputs": [],
   "source": []
  },
  {
   "cell_type": "code",
   "execution_count": null,
   "metadata": {},
   "outputs": [],
   "source": []
  },
  {
   "cell_type": "code",
   "execution_count": null,
   "metadata": {},
   "outputs": [],
   "source": []
  },
  {
   "cell_type": "code",
   "execution_count": null,
   "metadata": {},
   "outputs": [],
   "source": []
  },
  {
   "cell_type": "code",
   "execution_count": null,
   "metadata": {},
   "outputs": [],
   "source": []
  },
  {
   "cell_type": "code",
   "execution_count": null,
   "metadata": {},
   "outputs": [],
   "source": []
  },
  {
   "cell_type": "code",
   "execution_count": null,
   "metadata": {},
   "outputs": [],
   "source": []
  },
  {
   "cell_type": "code",
   "execution_count": null,
   "metadata": {},
   "outputs": [],
   "source": []
  },
  {
   "cell_type": "code",
   "execution_count": null,
   "metadata": {},
   "outputs": [],
   "source": []
  },
  {
   "cell_type": "code",
   "execution_count": null,
   "metadata": {},
   "outputs": [],
   "source": []
  },
  {
   "cell_type": "code",
   "execution_count": null,
   "metadata": {},
   "outputs": [],
   "source": []
  },
  {
   "cell_type": "code",
   "execution_count": null,
   "metadata": {},
   "outputs": [],
   "source": []
  },
  {
   "cell_type": "code",
   "execution_count": null,
   "metadata": {},
   "outputs": [],
   "source": []
  },
  {
   "cell_type": "code",
   "execution_count": null,
   "metadata": {},
   "outputs": [],
   "source": []
  },
  {
   "cell_type": "code",
   "execution_count": null,
   "metadata": {},
   "outputs": [],
   "source": []
  },
  {
   "cell_type": "code",
   "execution_count": null,
   "metadata": {},
   "outputs": [],
   "source": []
  },
  {
   "cell_type": "code",
   "execution_count": null,
   "metadata": {},
   "outputs": [],
   "source": []
  },
  {
   "cell_type": "code",
   "execution_count": null,
   "metadata": {},
   "outputs": [],
   "source": []
  },
  {
   "cell_type": "code",
   "execution_count": null,
   "metadata": {},
   "outputs": [],
   "source": []
  }
 ],
 "metadata": {
  "kernelspec": {
   "display_name": "Python 3",
   "language": "python",
   "name": "python3"
  },
  "language_info": {
   "codemirror_mode": {
    "name": "ipython",
    "version": 3
   },
   "file_extension": ".py",
   "mimetype": "text/x-python",
   "name": "python",
   "nbconvert_exporter": "python",
   "pygments_lexer": "ipython3",
   "version": "3.6.3"
  }
 },
 "nbformat": 4,
 "nbformat_minor": 2
}
