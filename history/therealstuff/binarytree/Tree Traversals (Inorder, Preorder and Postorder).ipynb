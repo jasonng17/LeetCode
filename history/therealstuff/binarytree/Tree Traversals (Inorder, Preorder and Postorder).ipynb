{
 "cells": [
  {
   "cell_type": "markdown",
   "metadata": {},
   "source": [
    "# Tree Traversals (Inorder, Preorder and Postorder)\n",
    "\n",
    "*Inorder* - In case of binary search trees (BST), Inorder traversal gives nodes in non-decreasing order. Inorder traversal of BST always produces sorted data\n",
    "\n",
    "*Preorder* - Preorder traversal is used to create a copy of the tree. Preorder traversal is also used to get prefix expression on of an expression tree.\n",
    "\n",
    "*Postorder* - Postorder traversal is used to delete the tree."
   ]
  },
  {
   "cell_type": "raw",
   "metadata": {},
   "source": [
    "Tree:\n",
    "\n",
    "       1\n",
    "      / \\\n",
    "     2   3\n",
    "    / \\   \n",
    "   4   5   \n",
    "  \n",
    "Depth First Traversals:\n",
    "(a) Inorder (Left, Root, Right) : 4 2 5 1 3\n",
    "(b) Preorder (Root, Left, Right) : 1 2 4 5 3\n",
    "(c) Postorder (Left, Right, Root) : 4 5 2 3 1"
   ]
  },
  {
   "cell_type": "code",
   "execution_count": 6,
   "metadata": {},
   "outputs": [],
   "source": [
    "# Driver code\n",
    "class Node: \n",
    "    def __init__(self,key): \n",
    "        self.left = None\n",
    "        self.right = None\n",
    "        self.val = key\n",
    "\n",
    "root = Node(1) \n",
    "root.left      = Node(2) \n",
    "root.right     = Node(3) \n",
    "root.left.left  = Node(4) \n",
    "root.left.right  = Node(5)"
   ]
  },
  {
   "cell_type": "code",
   "execution_count": 26,
   "metadata": {},
   "outputs": [],
   "source": [
    "# Inorder\n",
    "def printtree(root):\n",
    "    if root == None:\n",
    "        return\n",
    "    printtree(root.left)\n",
    "    print(root.val, end=\" \")\n",
    "    printtree(root.right)"
   ]
  },
  {
   "cell_type": "code",
   "execution_count": 27,
   "metadata": {},
   "outputs": [
    {
     "name": "stdout",
     "output_type": "stream",
     "text": [
      "4 2 5 1 3 "
     ]
    }
   ],
   "source": [
    "printtree(root)"
   ]
  },
  {
   "cell_type": "code",
   "execution_count": 31,
   "metadata": {},
   "outputs": [],
   "source": [
    "# Preorder\n",
    "def printtree(root):\n",
    "    if root == None:\n",
    "        return\n",
    "    print(root.val, end=\" \")\n",
    "    printtree(root.left)\n",
    "    printtree(root.right)"
   ]
  },
  {
   "cell_type": "code",
   "execution_count": 32,
   "metadata": {},
   "outputs": [
    {
     "name": "stdout",
     "output_type": "stream",
     "text": [
      "1 2 4 5 3 "
     ]
    }
   ],
   "source": [
    "printtree(root)"
   ]
  },
  {
   "cell_type": "code",
   "execution_count": 33,
   "metadata": {},
   "outputs": [],
   "source": [
    "# Postorder\n",
    "def printtree(root):\n",
    "    if root == None:\n",
    "        return\n",
    "    printtree(root.left)\n",
    "    printtree(root.right)\n",
    "    print(root.val, end=\" \")"
   ]
  },
  {
   "cell_type": "code",
   "execution_count": 35,
   "metadata": {},
   "outputs": [
    {
     "name": "stdout",
     "output_type": "stream",
     "text": [
      "4 5 2 3 1 "
     ]
    }
   ],
   "source": [
    "printtree(root)"
   ]
  }
 ],
 "metadata": {
  "kernelspec": {
   "display_name": "Python 3",
   "language": "python",
   "name": "python3"
  },
  "language_info": {
   "codemirror_mode": {
    "name": "ipython",
    "version": 3
   },
   "file_extension": ".py",
   "mimetype": "text/x-python",
   "name": "python",
   "nbconvert_exporter": "python",
   "pygments_lexer": "ipython3",
   "version": "3.6.3"
  }
 },
 "nbformat": 4,
 "nbformat_minor": 2
}
